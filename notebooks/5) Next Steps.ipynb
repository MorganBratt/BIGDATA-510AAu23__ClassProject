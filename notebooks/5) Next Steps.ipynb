{
 "cells": [
  {
   "cell_type": "markdown",
   "metadata": {
    "application/vnd.databricks.v1+cell": {
     "cellMetadata": {},
     "inputWidgets": {},
     "nuid": "8df04210-4506-4ae3-beee-3ca7f86cc7ce",
     "showTitle": false,
     "title": ""
    }
   },
   "source": [
    "# Next steps #\n",
    "## What are the logical places to take this data further ##\n",
    "\n",
    "1) This data comes ordered but what if it wasn't?  What if we didn't want to just guess visually what VMs were part of what applications?  My original goal was to use [KMeans Clustering](https://www.databricks.com/notebooks/segment-p13n/sg_03_clustering.html) via `mlflow` to do this grouping based on all the performance counters.\n",
    "2) What Feature engineering would be required to do that clustering?\n",
    "3) Can we dig into the other metrics to further differentiate the workflows?  \n",
    "4) Can we combine metrics like Data written\\Data read and Network Traffic Received\\Network Traffic Sent into combined metrics like "
   ]
  }
 ],
 "metadata": {
  "application/vnd.databricks.v1+notebook": {
   "dashboards": [],
   "language": "python",
   "notebookMetadata": {
    "pythonIndentUnit": 4
   },
   "notebookName": "5) Next Steps",
   "widgets": {}
  }
 },
 "nbformat": 4,
 "nbformat_minor": 0
}
